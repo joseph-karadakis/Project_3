{
 "cells": [
  {
   "cell_type": "code",
   "execution_count": 1,
   "metadata": {},
   "outputs": [
    {
     "name": "stdout",
     "output_type": "stream",
     "text": [
      "Monthly Confirmed Cases:\n",
      "    Province/State  Country/Region        Lat  Long  January/20  February/20  \\\n",
      "NaN    Afghanistan        33.93911  67.709953   0.0        30.0       1141.0   \n",
      "NaN        Albania        41.15330  20.168300   0.0         0.0       2232.0   \n",
      "NaN        Algeria        28.03390   1.659600   0.0         5.0       4823.0   \n",
      "NaN        Andorra        42.50630   1.521800   0.0         0.0       2787.0   \n",
      "NaN         Angola       -11.20270  17.873900   0.0         0.0         48.0   \n",
      "\n",
      "     March/20  April/20  May/20  June/20  ...   May/22  June/22  July/22  \\\n",
      "NaN   26928.0  222720.0  751685  1079412  ...  5441364  5699567  5876924   \n",
      "NaN   15632.0   28873.0   50880   119660  ...  8323448  9157061  9994918   \n",
      "NaN   69497.0  211394.0  337819   674286  ...  7978934  8263246  8344656   \n",
      "NaN   19106.0   23498.0   25511    27174  ...  1301800  1391434  1422901   \n",
      "NaN     601.0    1639.0    4660    20049  ...  2997507  3156309  3180376   \n",
      "\n",
      "     August/22  September/22  October/22  November/22  December/22  \\\n",
      "NaN    5899026       6237917   6140134.0      6413335      6448651   \n",
      "NaN    9937170      10311515   9995485.0     10341791     10354695   \n",
      "NaN    8116912       8393236   8129016.0      8406039      8410301   \n",
      "NaN    1383692       1437700   1402054.0      1473564      1481674   \n",
      "NaN    3089970       3197061   3104995.0      3251795      3258657   \n",
      "\n",
      "     January/23  February/23  \n",
      "NaN     5851560          NaN  \n",
      "NaN     9359749          NaN  \n",
      "NaN     7599630          NaN  \n",
      "NaN     1340056          NaN  \n",
      "NaN     2945399          NaN  \n",
      "\n",
      "[5 rows x 42 columns]\n"
     ]
    }
   ],
   "source": [
    "import pandas as pd\n",
    "\n",
    "# Step 1: Read the data from the three CSV files\n",
    "\n",
    "# Read the data for monthly confirmed cases\n",
    "confirmed_file = 'rawData/monthly_confirmed.csv'\n",
    "df_confirmed = pd.read_csv(confirmed_file)\n",
    "\n",
    "# Read the data for monthly deaths\n",
    "deaths_file = 'rawData/monthly_deaths.csv'\n",
    "df_deaths = pd.read_csv(deaths_file)\n",
    "\n",
    "# Read the data for monthly recoveries\n",
    "recovery_file = 'rawData/monthly_recovery.csv'\n",
    "df_recovery = pd.read_csv(recovery_file)\n",
    "\n",
    "# Step 2: Data exploration and preprocessing\n",
    "\n",
    "# Display the first few rows of each DataFrame to inspect the data\n",
    "print(\"Monthly Confirmed Cases:\")\n",
    "print(df_confirmed.head())\n"
   ]
  },
  {
   "cell_type": "code",
   "execution_count": 2,
   "metadata": {},
   "outputs": [
    {
     "name": "stdout",
     "output_type": "stream",
     "text": [
      "\n",
      "Monthly Deaths:\n",
      "  Province/State Country/Region       Lat       Long  January/20  February/20  \\\n",
      "0            NaN    Afghanistan  33.93911  67.709953           0            0   \n",
      "1            NaN        Albania  41.15330  20.168300           0            0   \n",
      "2            NaN        Algeria  28.03390   1.659600           0            0   \n",
      "3            NaN        Andorra  42.50630   1.521800           0            0   \n",
      "4            NaN         Angola -11.20270  17.873900           0            0   \n",
      "\n",
      "   March/20  April/20  May/20  June/20  ...  May/22  June/22  July/22  \\\n",
      "0        21       812    4924    14982  ...  238432   231381   239718   \n",
      "1        91       728     975     1221  ...  108400   104916   109091   \n",
      "2       324      9197   16901    23600  ...  213125   206250   213133   \n",
      "3        39       917    1518     1545  ...    4743     4590     4743   \n",
      "4         6        60      85      210  ...   58900    57000    59095   \n",
      "\n",
      "   August/22  September/22  October/22  November/22  December/22  January/23  \\\n",
      "0     240588        233728      242155       234889       243097      243684   \n",
      "1     110676        107586      111321       107807       111423      111474   \n",
      "2     213211        206367      213301       206430       213311      213311   \n",
      "3       4772          4644        4805         4666         4976        5115   \n",
      "4      59407         57510       59427        57559        59735       59838   \n",
      "\n",
      "   February/23  \n",
      "0       221062  \n",
      "1       100702  \n",
      "2       192668  \n",
      "3         4620  \n",
      "4        54072  \n",
      "\n",
      "[5 rows x 42 columns]\n"
     ]
    }
   ],
   "source": [
    "\n",
    "print(\"\\nMonthly Deaths:\")\n",
    "print(df_deaths.head())\n"
   ]
  },
  {
   "cell_type": "code",
   "execution_count": 3,
   "metadata": {},
   "outputs": [
    {
     "name": "stdout",
     "output_type": "stream",
     "text": [
      "\n",
      "Monthly Recoveries:\n",
      "  Province/State Country/Region       Lat       Long  January/20  February/20  \\\n",
      "0            NaN    Afghanistan  33.93911  67.709953           0            0   \n",
      "1            NaN        Albania  41.15330  20.168300           0            0   \n",
      "2            NaN        Algeria  28.03390   1.659600           0            0   \n",
      "3            NaN        Andorra  42.50630   1.521800           0            0   \n",
      "4            NaN         Angola -11.20270  17.873900           0            0   \n",
      "\n",
      "   March/20  April/20  May/20  June/20  ...  October/20  November/20  \\\n",
      "0        26      2927   24129   184768  ...     1039280      1058724   \n",
      "1       241      7902   21760    32742  ...      305370       424181   \n",
      "2       594     24072  109804   233399  ...     1177057      1373852   \n",
      "3        37      5636   18505    23239  ...       69118       143348   \n",
      "4         1       129     466     1668  ...       94176       196092   \n",
      "\n",
      "   December/20  January/21  February/21  March/21  April/21   May/21  June/21  \\\n",
      "0      1207801     1403684      1358287   1541980   1566429  1710784  1887517   \n",
      "1       819127     1250570      1622660   2525857   3010039  3795097  3894898   \n",
      "2      1902624     2181520      2126923   2481861   2495622  2710001  2805260   \n",
      "3       209606      253747       277194    336906    361236   407093   408532   \n",
      "4       286751      473400       527106    618101    668606   802500   924203   \n",
      "\n",
      "   July/21  \n",
      "0  2492541  \n",
      "1  4032655  \n",
      "2  3257465  \n",
      "3   430536  \n",
      "4  1077983  \n",
      "\n",
      "[5 rows x 23 columns]\n"
     ]
    }
   ],
   "source": [
    "\n",
    "print(\"\\nMonthly Recoveries:\")\n",
    "print(df_recovery.head())\n"
   ]
  },
  {
   "cell_type": "code",
   "execution_count": 4,
   "metadata": {},
   "outputs": [
    {
     "name": "stdout",
     "output_type": "stream",
     "text": [
      "[('Afghanistan', 33.93911, 67.709953, 0.0, 30.0, 1141.0, 26928.0, 222720.0, 751685, 1079412, 1165099, 1166401, 1246695, 1303865, 1539551, 1671259, 1553102, 1737068, 1733260, 1991950, 2848717, 4241348, 4696019, 4628009, 4827238, 4701215, 4889195, 4938320, 4759331, 5465007, 5350389, 5562250, 5441364, 5699567, 5876924, 5899026, 6237917, 6140134.0, 6413335, 6448651, 5851560, None), ('Albania', 41.1533, 20.1683, 0.0, 0.0, 2232.0, 15632.0, 28873.0, 50880, 119660, 230278, 350148, 523084, 866248, 1540509, 2088163, 2610775, 3652195, 3865660, 4089156, 3973546, 4113962, 4262873, 4784904, 5511591, 5801493, 6351823, 7217971, 7491180, 8456152, 8233062, 8544921, 8323448, 9157061, 9994918, 9937170, 10311515, 9995485.0, 10341791, 10354695, 9359749, None), ('Algeria', 28.0339, 1.6596, 0.0, 5.0, 4823.0, 69497.0, 211394.0, 337819, 674286, 1185076, 1458290, 1683631, 2074384, 2884170, 3212268, 3096714, 3577898, 3581338, 3890403, 4030589, 4734511, 5788899, 6016238, 6358229, 6249508, 6636393, 7141014, 7317457, 8228823, 7972081, 8240659, 7978934, 8263246, 8344656, 8116912, 8393236, 8129016.0, 8406039, 8410301, 7599630, None), ('Andorra', 42.5063, 1.5218, 0.0, 0.0, 2787.0, 19106.0, 23498.0, 25511, 27174, 31382, 45275, 103067, 174907, 230115, 279226, 293412, 352375, 380633, 418754, 414764, 442259, 462595, 453489, 475994, 481140, 629689, 931921, 1043282, 1211183, 1219226, 1308981, 1301800, 1391434, 1422901, 1383692, 1437700, 1402054.0, 1473564, 1481674, 1340056, None), ('Angola', -11.2027, 17.8739, 0.0, 0.0, 48.0, 601.0, 1639.0, 4660, 20049, 59160, 111469, 233349, 404417, 508018, 580289, 569508, 666295, 726071, 948207, 1109740, 1260968, 1394599, 1552460, 1929362, 1946699, 2112947, 2871481, 2758810, 3067646, 2976936, 3080191, 2997507, 3156309, 3180376, 3089970, 3197061, 3104995.0, 3251795, 3258657, 2945399, None)]\n"
     ]
    }
   ],
   "source": [
    "import sqlite3\n",
    "import pandas as pd\n",
    "\n",
    "# Load data from CSV files\n",
    "data1_df = pd.read_csv('rawData/monthly_confirmed.csv')\n",
    "data2_df = pd.read_csv('rawData/monthly_deaths.csv')\n",
    "data3_df = pd.read_csv('rawData/monthly_recovery.csv')\n",
    "\n",
    "# Create SQLite database and tables\n",
    "conn = sqlite3.connect('database/dashboard_data.db')\n",
    "data1_df.to_sql('confirmed', conn, if_exists='replace', index=False)\n",
    "data2_df.to_sql('deaths', conn, if_exists='replace', index=False)\n",
    "data3_df.to_sql('recovery', conn, if_exists='replace', index=False)\n",
    "\n",
    "# Verify the database\n",
    "query = \"SELECT * FROM confirmed LIMIT 5;\"\n",
    "result = conn.execute(query).fetchall()\n",
    "print(result)\n",
    "\n"
   ]
  },
  {
   "cell_type": "code",
   "execution_count": 5,
   "metadata": {},
   "outputs": [
    {
     "name": "stdout",
     "output_type": "stream",
     "text": [
      "Tables in dashboard_data.db:\n",
      "confirmed\n",
      "deaths\n",
      "recovery\n"
     ]
    }
   ],
   "source": [
    "# Connect to the SQLite database\n",
    "conn = sqlite3.connect('database/dashboard_data.db')\n",
    "cursor = conn.cursor()\n",
    "\n",
    "# Get the list of tables in the database\n",
    "cursor.execute(\"SELECT name FROM sqlite_master WHERE type='table';\")\n",
    "tables = cursor.fetchall()\n",
    "\n",
    "# Print the table names\n",
    "print(\"Tables in dashboard_data.db:\")\n",
    "for table in tables:\n",
    "    print(table[0])\n",
    "\n",
    "# Close the database connection\n",
    "conn.close()"
   ]
  },
  {
   "cell_type": "code",
   "execution_count": 6,
   "metadata": {},
   "outputs": [
    {
     "name": "stdout",
     "output_type": "stream",
     "text": [
      "Columns in confirmed:\n",
      "['Province/State', 'Country/Region', 'Lat', 'Long', 'January/20', 'February/20', 'March/20', 'April/20', 'May/20', 'June/20', 'July/20', 'August/20', 'September/20', 'October/20', 'November/20', 'December/20', 'January/21', 'February/21', 'March/21', 'April/21', 'May/21', 'June/21', 'July/21', 'August/21', 'September/21', 'October/21', 'November/21', 'December/21', 'January/22', 'February/22', 'March/22', 'April/22', 'May/22', 'June/22', 'July/22', 'August/22', 'September/22', 'October/22', 'November/22', 'December/22', 'January/23', 'February/23']\n",
      "Columns in deaths:\n",
      "['Province/State', 'Country/Region', 'Lat', 'Long', 'January/20', 'February/20', 'March/20', 'April/20', 'May/20', 'June/20', 'July/20', 'August/20', 'September/20', 'October/20', 'November/20', 'December/20', 'January/21', 'February/21', 'March/21', 'April/21', 'May/21', 'June/21', 'July/21', 'August/21', 'September/21', 'October/21', 'November/21', 'December/21', 'January/22', 'February/22', 'March/22', 'April/22', 'May/22', 'June/22', 'July/22', 'August/22', 'September/22', 'October/22', 'November/22', 'December/22', 'January/23', 'February/23']\n",
      "Columns in recovery:\n",
      "['Province/State', 'Country/Region', 'Lat', 'Long', 'January/20', 'February/20', 'March/20', 'April/20', 'May/20', 'June/20', 'July/20', 'August/20', 'September/20', 'October/20', 'November/20', 'December/20', 'January/21', 'February/21', 'March/21', 'April/21', 'May/21', 'June/21', 'July/21']\n"
     ]
    }
   ],
   "source": [
    "import sqlite3\n",
    "\n",
    "# Connect to the SQLite database\n",
    "conn = sqlite3.connect('database/dashboard_data.db')\n",
    "cursor = conn.cursor()\n",
    "\n",
    "# Function to get column names of a table\n",
    "def get_column_names(table_name):\n",
    "    cursor.execute(f\"PRAGMA table_info({table_name});\")\n",
    "    columns = cursor.fetchall()\n",
    "    return [column[1] for column in columns]\n",
    "\n",
    "# Get the list of tables in the database\n",
    "cursor.execute(\"SELECT name FROM sqlite_master WHERE type='table';\")\n",
    "tables = cursor.fetchall()\n",
    "\n",
    "# Print column names for each table\n",
    "for table in tables:\n",
    "    table_name = table[0]\n",
    "    print(f\"Columns in {table_name}:\")\n",
    "    columns = get_column_names(table_name)\n",
    "    print(columns)\n",
    "\n",
    "# Close the database connection\n",
    "conn.close()\n"
   ]
  }
 ],
 "metadata": {
  "kernelspec": {
   "display_name": "base",
   "language": "python",
   "name": "python3"
  },
  "language_info": {
   "codemirror_mode": {
    "name": "ipython",
    "version": 3
   },
   "file_extension": ".py",
   "mimetype": "text/x-python",
   "name": "python",
   "nbconvert_exporter": "python",
   "pygments_lexer": "ipython3",
   "version": "3.10.9"
  },
  "orig_nbformat": 4
 },
 "nbformat": 4,
 "nbformat_minor": 2
}
